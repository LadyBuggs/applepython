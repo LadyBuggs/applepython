{
  "cells": [
    {
      "cell_type": "code",
      "execution_count": null,
      "metadata": {
        "id": "U_t8jr02-btP"
      },
      "outputs": [],
      "source": [
        "!pip install pandas-profiling==3.2.0\n",
        "!pip install markupsafe==2.0.1\n",
        "# https://pypi.org/project/pandas-profiling/3.1.0/#history"
      ],
      "id": "U_t8jr02-btP"
    },
    {
      "cell_type": "code",
      "execution_count": null,
      "metadata": {
        "id": "X5NY9ycC-btX"
      },
      "outputs": [],
      "source": [
        "import pandas as pd\n",
        "from pandas_profiling import ProfileReport"
      ],
      "id": "X5NY9ycC-btX"
    },
    {
      "cell_type": "code",
      "execution_count": null,
      "metadata": {
        "id": "Ib9jgM7E-btY"
      },
      "outputs": [],
      "source": [
        "df = pd.read_csv(\"https://raw.githubusercontent.com/fenago/datasets/main/AirBnB_NYC_2019.csv\", na_values = -999)"
      ],
      "id": "Ib9jgM7E-btY"
    },
    {
      "cell_type": "code",
      "execution_count": null,
      "metadata": {
        "id": "8ItqrXUY-btZ"
      },
      "outputs": [],
      "source": [
        "df.info()"
      ],
      "id": "8ItqrXUY-btZ"
    },
    {
      "cell_type": "code",
      "execution_count": null,
      "metadata": {
        "id": "toE9it7C-bta"
      },
      "outputs": [],
      "source": [
        "report = ProfileReport(df)\n",
        "report"
      ],
      "id": "toE9it7C-bta"
    },
    {
      "cell_type": "code",
      "execution_count": null,
      "metadata": {
        "id": "-DoYvut7-btb"
      },
      "outputs": [],
      "source": [],
      "id": "-DoYvut7-btb"
    }
  ],
  "metadata": {
    "kernelspec": {
      "display_name": "Python 3",
      "language": "python",
      "name": "python3"
    },
    "language_info": {
      "codemirror_mode": {
        "name": "ipython",
        "version": 3
      },
      "file_extension": ".py",
      "mimetype": "text/x-python",
      "name": "python",
      "nbconvert_exporter": "python",
      "pygments_lexer": "ipython3",
      "version": "3.8.6"
    },
    "colab": {
      "provenance": []
    }
  },
  "nbformat": 4,
  "nbformat_minor": 5
}